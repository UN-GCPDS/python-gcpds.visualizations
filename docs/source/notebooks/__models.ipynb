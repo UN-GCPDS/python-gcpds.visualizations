{
 "cells": [
  {
   "cell_type": "code",
   "execution_count": 2,
   "id": "1a6c9651-eb49-4e3b-a2e6-be7d15f9a52d",
   "metadata": {},
   "outputs": [],
   "source": [
    "%matplotlib inline\n",
    "\n",
    "import numpy as np\n",
    "from mpl_toolkits.mplot3d import Axes3D\n",
    "import matplotlib.pyplot as plt\n",
    "from matplotlib import cm"
   ]
  },
  {
   "cell_type": "code",
   "execution_count": 3,
   "id": "f34d3c33-aeec-4167-9860-b78b25866144",
   "metadata": {},
   "outputs": [],
   "source": [
    "data = (\n",
    "\n",
    "[1, 10, 10],\n",
    "[1, 10, 10],\n",
    "[1, 9, 9],\n",
    "[1, 7, 7],\n",
    "[2, 3, 3],\n",
    "[1, 3, 2],\n",
    "[5, 1, 1],\n",
    "[3, 1, 1],\n",
    "    \n",
    ")\n",
    "\n",
    "\n",
    "color = cm.get_cmap('Pastel1', len(data))"
   ]
  },
  {
   "cell_type": "code",
   "execution_count": null,
   "id": "0afcd491-d7b4-4595-9bce-2d0e2783ff61",
   "metadata": {},
   "outputs": [],
   "source": [
    "import mayavi.mlab\n",
    "import numpy\n",
    "\n",
    "\n",
    "def get_cube(a, b, c):\n",
    "\n",
    "    data = (a, b, c)\n",
    "    data = numpy.ones(data)\n",
    "    data[1:a-1, 1:b-1, 1:c-1] = 0\n",
    "\n",
    "    xx, yy, zz = numpy.where(data == 1)\n",
    "    \n",
    "    # xx = np.array([xx[0], xx[-1]])\n",
    "    # yy = np.array([yy[0], yy[-1]])\n",
    "    # zz = np.array([zz[0], zz[-1]])\n",
    "    \n",
    "    return xx, yy-(b/2), zz-(c/2)\n",
    "\n",
    "\n",
    "\n",
    "\n",
    "p = 0\n",
    "for i, d in enumerate(data):\n",
    "    xx, yy, zz = get_cube(*d)\n",
    "    mayavi.mlab.points3d(xx+p, yy, zz, mode=\"cube\", opacity=1, color=color(i)[:-1], scale_factor=1)\n",
    "    mayavi.mlab.points3d(xx+p, yy, zz, mode=\"2dsquare\", opacity=1, color=color(i)[:-1], scale_factor=1)\n",
    "    p += d[0] + 0.5\n",
    "\n",
    "\n",
    "\n",
    "\n",
    "mayavi.mlab.show()"
   ]
  },
  {
   "cell_type": "code",
   "execution_count": 5,
   "id": "ee892ef6-1c03-4469-815a-9c07e88f77f4",
   "metadata": {},
   "outputs": [
    {
     "data": {
      "text/plain": [
       "(array([0, 2]), array([-0.5, -0.5]), array([-0.5, -0.5]))"
      ]
     },
     "execution_count": 5,
     "metadata": {},
     "output_type": "execute_result"
    }
   ],
   "source": [
    "xx, yy, zz"
   ]
  }
 ],
 "metadata": {
  "kernelspec": {
   "display_name": "Python 3 (ipykernel)",
   "language": "python",
   "name": "python3"
  },
  "language_info": {
   "codemirror_mode": {
    "name": "ipython",
    "version": 3
   },
   "file_extension": ".py",
   "mimetype": "text/x-python",
   "name": "python",
   "nbconvert_exporter": "python",
   "pygments_lexer": "ipython3",
   "version": "3.10.9"
  }
 },
 "nbformat": 4,
 "nbformat_minor": 5
}
