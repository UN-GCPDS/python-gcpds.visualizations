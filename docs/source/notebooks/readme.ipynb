{
 "cells": [
  {
   "cell_type": "markdown",
   "metadata": {},
   "source": [
    "# GCPDS - visualizations\n"
   ]
  },
  {
   "cell_type": "markdown",
   "metadata": {},
   "source": [
    "## Installation"
   ]
  },
  {
   "cell_type": "code",
   "execution_count": null,
   "metadata": {},
   "outputs": [],
   "source": [
    "pip install -U git+https://github.com/UN-GCPDS/python-gcpds.visualizations.git"
   ]
  },
  {
   "cell_type": "markdown",
   "metadata": {},
   "source": [
    "<div class='gcpds-images0'>\n",
    "\n",
    "[![Brain connectivities](_images/conn.png)](01-connectivity_circosplot.ipynb)\n",
    "\n",
    "[![Accuracy and Gain Comparison (AGCO)](_images/agco.png)](02-comparison_accuracy_gain.ipynb)\n",
    "\n",
    "[![EEG](_images/eeg.png)](03-eeg.ipynb)\n",
    "    \n",
    "</div>"
   ]
  }
 ],
 "metadata": {
  "kernelspec": {
   "display_name": "Python 3 (ipykernel)",
   "language": "python",
   "name": "python3"
  },
  "language_info": {
   "codemirror_mode": {
    "name": "ipython",
    "version": 3
   },
   "file_extension": ".py",
   "mimetype": "text/x-python",
   "name": "python",
   "nbconvert_exporter": "python",
   "pygments_lexer": "ipython3",
   "version": "3.10.6"
  }
 },
 "nbformat": 4,
 "nbformat_minor": 4
}
