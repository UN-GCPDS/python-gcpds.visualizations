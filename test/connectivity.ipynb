{
 "cells": [
  {
   "cell_type": "code",
   "execution_count": 1,
   "id": "f5d9ffa7-7c29-4dcf-aa37-d9827ecfdb2d",
   "metadata": {},
   "outputs": [],
   "source": [
    "from gcpds.visualizations.connectivities import CircosConnectivity\n",
    "import numpy as np\n",
    "from matplotlib import pyplot as plt\n",
    "from matplotlib import cm\n",
    "from ipywidgets import interact"
   ]
  },
  {
   "cell_type": "code",
   "execution_count": 2,
   "id": "b09f95d5-7060-4ad2-ba86-f9bf6b936bcf",
   "metadata": {},
   "outputs": [],
   "source": [
    "\n",
    "\n",
    "N = 10\n",
    "v = np.random.normal(size=(N, N))\n",
    "v = v + v.T  # - np.diag(v.diagonal())\n",
    "v = (np.abs(v) / v.max()) * 0.8\n",
    "np.fill_diagonal(v, 1)"
   ]
  },
  {
   "cell_type": "code",
   "execution_count": 3,
   "id": "2b4eca2c-04d1-4758-afe4-c8ada760f833",
   "metadata": {},
   "outputs": [
    {
     "data": {
      "application/vnd.jupyter.widget-view+json": {
       "model_id": "f394cfc16a6c4467b8f4d807c18d53fb",
       "version_major": 2,
       "version_minor": 0
      },
      "text/plain": [
       "interactive(children=(Dropdown(description='areas_cmap', index=54, options=('PiYG', 'PRGn', 'BrBG', 'PuOr', 'R…"
      ]
     },
     "metadata": {},
     "output_type": "display_data"
    }
   ],
   "source": [
    "areas = {\n",
    "    'Frontal': ['Fp2'],\n",
    "    'Central': ['C4'],\n",
    "    'Temporal': ['A2', 'T4'],\n",
    "    'Occipital': ['O2'],\n",
    "\n",
    "    'Occipital_': ['O1'],\n",
    "    'Temporal_': ['A1', 'T3'],\n",
    "    'Central_': ['C3'],\n",
    "    'Frontal_': ['Fp1'],\n",
    "}\n",
    "channels = []\n",
    "for c in areas:\n",
    "    channels.extend(areas[c])\n",
    "\n",
    "arcs = [\n",
    "    'hemispheres',\n",
    "    'areas',\n",
    "    'channels',\n",
    "]\n",
    "\n",
    "a = ['PiYG', 'PRGn', 'BrBG', 'PuOr', 'RdGy', 'RdBu', 'RdYlBu', 'RdYlGn', 'Spectral', 'coolwarm', 'bwr', 'seismic',\n",
    "     'viridis', 'plasma', 'inferno', 'magma', 'cividis',    \n",
    "     'bone','pink', 'spring', 'summer', 'autumn', 'winter', 'cool', 'Wistia', 'hot', 'afmhot', 'gist_heat', 'copper',\n",
    "     'Greys', 'Purples', 'Blues', 'Greens', 'Oranges', 'Reds', 'YlOrBr', 'YlOrRd', 'OrRd', 'PuRd', 'RdPu', 'BuPu', 'GnBu', 'PuBu', 'YlGnBu', 'PuBuGn', 'BuGn', 'YlGn',\n",
    "     'Pastel1', 'Pastel2', 'Paired', 'Accent', 'Dark2', 'Set1', 'Set2', 'Set3', 'tab10', 'tab20', 'tab20b', 'tab20c'\n",
    "    ]\n",
    "\n",
    "@interact(areas_cmap=a, arcs_cmap=a)\n",
    "def _(areas_cmap='Set3', arcs_cmap='Wistia'):\n",
    "    conn = CircosConnectivity(v, channels, areas=areas, labelsize=15, arcs=arcs, min_alpha=0, threshold=0.3, \n",
    "                              areas_cmap=areas_cmap, arcs_cmap=arcs_cmap, size=10, \n",
    "                              \n",
    "                              width=        {1:35, 2:100, 3:60}, \n",
    "                              text=         {1:40, 2:20,  3:40}, \n",
    "                              separation=   {1:10, 2:-30, 3:5}, \n",
    "                              labelposition={1:60, 2:0,   3:-10},\n",
    "                            \n",
    "                              # width=        {1:100, 2:60}, \n",
    "                              # text=         {1:20,  2:40}, \n",
    "                              # separation=   {1:-30, 2:5}, \n",
    "                              # labelposition={1:0,   2:-10}, \n",
    "                    \n",
    "                              arcs_separation=30,\n",
    "                              hemisphere_color='lightgray', channel_color='#f8f9fa', connection_width=0.1,\n",
    "                             \n",
    "                             small_separation=5, big_separation=20, offset=0\n",
    "                             \n",
    "                             )\n",
    "    conn.figure;\n",
    "    \n",
    "    plt.savefig('conn1.png')\n"
   ]
  },
  {
   "cell_type": "code",
   "execution_count": 4,
   "id": "9dcd5357-7982-4c73-8a7f-a32106a0b800",
   "metadata": {},
   "outputs": [
    {
     "data": {
      "application/vnd.jupyter.widget-view+json": {
       "model_id": "cb2836b4a2c04ed09425a985be3a43cb",
       "version_major": 2,
       "version_minor": 0
      },
      "text/plain": [
       "interactive(children=(Dropdown(description='areas_cmap', index=54, options=('PiYG', 'PRGn', 'BrBG', 'PuOr', 'R…"
      ]
     },
     "metadata": {},
     "output_type": "display_data"
    }
   ],
   "source": [
    "arcs = [\n",
    "    # 'hemispheres',\n",
    "    'areas',\n",
    "    'channels',\n",
    "]\n",
    "\n",
    "\n",
    "areas = {\n",
    "    'Frontal': ['Fp1', 'Fp2'],\n",
    "    'Central': ['C4'],\n",
    "    'Temporal': ['T4', 'A2'],\n",
    "    'Occipital': ['O2','O1'],\n",
    "    'Temporal_': ['A1', 'T3'],\n",
    "    'Central_': ['C3'],\n",
    "}\n",
    "\n",
    "channels = []\n",
    "for c in areas:\n",
    "    channels.extend(areas[c])\n",
    "\n",
    "\n",
    "@interact(areas_cmap=a, arcs_cmap=a)\n",
    "def _(areas_cmap='Set3', arcs_cmap='Wistia'):\n",
    "    conn = CircosConnectivity(v, channels, areas=areas, labelsize=15, arcs=arcs, min_alpha=0, threshold=0.3, \n",
    "                              areas_cmap=areas_cmap, arcs_cmap=arcs_cmap, size=10, \n",
    "                            \n",
    "                              width=        {1:100, 2:60}, \n",
    "                              text=         {1:20,  2:40}, \n",
    "                              separation=   {1:-30, 2:5}, \n",
    "                              labelposition={1:0,   2:-10}, \n",
    "                    \n",
    "                              arcs_separation=30,\n",
    "                              hemisphere_color='lightgray', channel_color='#f8f9fa', connection_width=0.1,\n",
    "                             \n",
    "                             small_separation=5, big_separation=5, offset=-1\n",
    "                             \n",
    "                             )\n",
    "    conn.figure;\n",
    "    plt.savefig('conn2.png')\n",
    "\n"
   ]
  },
  {
   "cell_type": "code",
   "execution_count": null,
   "id": "dd543576-1a3e-415c-8541-f334b45df199",
   "metadata": {},
   "outputs": [],
   "source": []
  }
 ],
 "metadata": {
  "kernelspec": {
   "display_name": "Python 3 (ipykernel)",
   "language": "python",
   "name": "python3"
  },
  "language_info": {
   "codemirror_mode": {
    "name": "ipython",
    "version": 3
   },
   "file_extension": ".py",
   "mimetype": "text/x-python",
   "name": "python",
   "nbconvert_exporter": "python",
   "pygments_lexer": "ipython3",
   "version": "3.10.5"
  }
 },
 "nbformat": 4,
 "nbformat_minor": 5
}
